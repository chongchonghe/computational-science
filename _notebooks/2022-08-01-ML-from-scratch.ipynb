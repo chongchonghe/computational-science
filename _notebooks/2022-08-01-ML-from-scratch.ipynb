{
 "cells": [
  {
   "cell_type": "markdown",
   "id": "4ec1fe55",
   "metadata": {
    "collapsed": false
   },
   "source": [
    "# Write a Machine Learning Algorithm from Scratch using Python\n",
    "> Handwritten Digit Recognition with Logistic Regression\n",
    "\n",
    "- toc:true\n",
    "- brach: master\n",
    "- comments: true\n",
    "- author: Chong-Chong He (che1234@umd.edu)\n",
    "- image: https://i.imgur.com/SGP0FsX.png\n",
    "- categories: [machine learning, Python, jupyter]"
   ]
  },
  {
   "cell_type": "markdown",
   "id": "90cdf0c8",
   "metadata": {
    "cell_id": "ac70dd8d-95c7-4a70-9090-3589f8bace86",
    "collapsed": false,
    "deepnote_app_coordinates": {
     "h": 5,
     "w": 12,
     "x": 0,
     "y": 1
    },
    "deepnote_cell_height": 325.1875,
    "deepnote_cell_type": "markdown"
   },
   "source": [
    "In this notebook, I demonstrate how to write an image classification algorithm with logistic regression from scratch using Python and achieve high accuracy in the task of Handwritten Digit Recognition."
   ]
  },
  {
   "cell_type": "markdown",
   "id": "99b40581",
   "metadata": {
    "cell_id": "00001-cc59ee1f-14f5-4b93-b8e9-e0827ddb8c6f",
    "collapsed": false,
    "deepnote_app_coordinates": {
     "h": 5,
     "w": 12,
     "x": 0,
     "y": 7
    },
    "deepnote_cell_height": 175.59375,
    "deepnote_cell_type": "markdown"
   },
   "source": [
    "## Dataset\n",
    "\n",
    "The data we are going to use to train our model is the MNIST handwritten digit database. First, download the images data files from [the MNIST database](http://yann.lecun.com/exdb/mnist/) and store them under the data/ directory. In this project, we use 8000 images for training and 2000 for testing. The image files are tables of a large set of images, each consisting of 28^2 pixels and each pixel is a 8-bit integer. "
   ]
  },
  {
   "cell_type": "code",
   "execution_count": 1,
   "id": "35d924d1",
   "metadata": {
    "cell_id": "00002-5aa08f0b-90fa-42c9-a426-1c15cdef71f1",
    "collapsed": false,
    "deepnote_app_coordinates": {
     "h": 5,
     "w": 12,
     "x": 0,
     "y": 13
    },
    "deepnote_cell_height": 315,
    "deepnote_cell_type": "code",
    "deepnote_to_be_reexecuted": false,
    "execution_millis": 2386,
    "execution_start": 1660358859682,
    "jupyter": {
     "outputs_hidden": false
    },
    "source_hash": "17a4d3c1"
   },
   "outputs": [],
   "source": [
    "import numpy as np\n",
    "from scipy import special\n",
    "import idx2numpy\n",
    "import matplotlib.pyplot as plt\n",
    "\n",
    "# reduce num_data to increase the speed of the code\n",
    "num_data = 3000\n",
    "\n",
    "image_size = 28\n",
    "num_test = num_data // 6\n",
    "x_train = idx2numpy.convert_from_file('data/train-images-idx3-ubyte')[:num_data, :, :].reshape([num_data, image_size * image_size]).T\n",
    "x_test = idx2numpy.convert_from_file('data/t10k-images-idx3-ubyte')[:num_test, :, :].reshape([num_test, image_size * image_size]).T\n",
    "y_train = idx2numpy.convert_from_file('data/train-labels-idx1-ubyte')[:num_data]\n",
    "y_test = idx2numpy.convert_from_file('data/t10k-labels-idx1-ubyte')[:num_test]"
   ]
  },
  {
   "cell_type": "markdown",
   "id": "970f0fd2",
   "metadata": {
    "cell_id": "00003-f19d20ca-35de-4d09-9342-ac4c109188af",
    "collapsed": false,
    "deepnote_app_coordinates": {
     "h": 5,
     "w": 12,
     "x": 0,
     "y": 19
    },
    "deepnote_cell_height": 52.390625,
    "deepnote_cell_type": "markdown"
   },
   "source": [
    "Let's visualize 10 images that is randomly picked. You will see the images match with the labels."
   ]
  },
  {
   "cell_type": "code",
   "execution_count": 2,
   "id": "55cee08f",
   "metadata": {
    "cell_id": "00004-a5df1bc5-72e9-4063-b7b7-21238120c2a6",
    "collapsed": false,
    "deepnote_app_coordinates": {
     "h": 5,
     "w": 12,
     "x": 0,
     "y": 25
    },
    "deepnote_cell_height": 553.953125,
    "deepnote_cell_type": "code",
    "deepnote_output_heights": [
     290.265625
    ],
    "deepnote_to_be_reexecuted": false,
    "execution_millis": 1613,
    "execution_start": 1660358862071,
    "jupyter": {
     "outputs_hidden": false
    },
    "source_hash": "500da982"
   },
   "outputs": [
    {
     "data": {
      "image/png": "[encoded data removed]",
      "text/plain": [
       "<Figure size 1008x432 with 10 Axes>"
      ]
     },
     "metadata": {
      "image/png": {
       "height": 345,
       "width": 815
      },
      "needs_background": "light"
     },
     "output_type": "display_data"
    },
    {
     "name": "stdout",
     "output_type": "stream",
     "text": [
      "Labels:  [1 1 9 8 9 0 0 8 4 4]\n"
     ]
    }
   ],
   "source": [
    "picks = np.random.choice(range(len(y_test)), 10)\n",
    "f, axs = plt.subplots(2, 5, figsize=[14, 6])\n",
    "for i, ax in enumerate(axs.flatten()):\n",
    "    ax.set_aspect('equal', 'box')\n",
    "    ax.imshow(x_test[:, picks[i]].reshape(image_size, image_size), cmap=\"gray\")\n",
    "plt.show()\n",
    "# print(\"Labels mod: \", y_test[:, picks].T)\n",
    "print(\"Labels: \", y_test[picks])"
   ]
  },
  {
   "cell_type": "markdown",
   "id": "565469a3",
   "metadata": {
    "cell_id": "00005-073cda12-c3e6-4fa0-af45-b2b62868c4de",
    "collapsed": false,
    "deepnote_app_coordinates": {
     "h": 5,
     "w": 12,
     "x": 0,
     "y": 31
    },
    "deepnote_cell_height": 274.390625,
    "deepnote_cell_type": "markdown"
   },
   "source": [
    "## Training a binary classification model with logistic regression\n",
    "\n",
    "We begin with a simpler version of the task: binary classification. In a binary classification model, we estimate the probability of some event being true. In this case, we tell if or not an image corresponds to the digit \"1\". That means, the model will return 1 if the digit is 1 and 0 otherwise. We keep only 1's in the labels and the rest is set to zero. In the next section, we will extend the model to recoganizing all 10 digits. \n",
    "\n",
    "We first reset the labels."
   ]
  },
  {
   "cell_type": "code",
   "execution_count": 3,
   "id": "70e7cc37",
   "metadata": {
    "cell_id": "00006-dc6d79cb-4b66-4f5f-ab93-8a5e715d4382",
    "collapsed": false,
    "deepnote_app_coordinates": {
     "h": 5,
     "w": 12,
     "x": 0,
     "y": 37
    },
    "deepnote_cell_height": 185.1875,
    "deepnote_cell_type": "code",
    "deepnote_output_heights": [
     21.1875
    ],
    "deepnote_to_be_reexecuted": false,
    "execution_millis": 210,
    "execution_start": 1660358863496,
    "jupyter": {
     "outputs_hidden": false
    },
    "source_hash": "df1b3411"
   },
   "outputs": [
    {
     "data": {
      "text/plain": [
       "array([1, 1, 0, 0, 0, 0, 0, 0, 0, 0], dtype=uint8)"
      ]
     },
     "execution_count": 3,
     "metadata": {},
     "output_type": "execute_result"
    }
   ],
   "source": [
    "y_train_binary = y_train.copy()\n",
    "y_test_binary = y_test.copy()\n",
    "y_train_binary[y_train_binary != 1] = 0\n",
    "y_test_binary[y_test_binary != 1] = 0\n",
    "y_test_binary[picks]"
   ]
  },
  {
   "cell_type": "markdown",
   "id": "7370bf59",
   "metadata": {
    "cell_id": "00007-b28bb90f-c1d8-4d0d-92fe-e16ca858a74e",
    "collapsed": false,
    "deepnote_app_coordinates": {
     "h": 5,
     "w": 12,
     "x": 0,
     "y": 43
    },
    "deepnote_cell_height": 52.390625,
    "deepnote_cell_type": "markdown"
   },
   "source": [
    "The training and test datasets are ready to be used in the model. Let us develop the model."
   ]
  },
  {
   "cell_type": "markdown",
   "id": "65a70da1",
   "metadata": {
    "cell_id": "00008-190c43ce-aab7-493e-8644-d208df0de36b",
    "collapsed": false,
    "deepnote_app_coordinates": {
     "h": 5,
     "w": 12,
     "x": 0,
     "y": 49
    },
    "deepnote_cell_height": 122.796875,
    "deepnote_cell_type": "markdown",
    "tags": []
   },
   "source": [
    "### Linear regression\n",
    "\n",
    "The logistic regression uses the basic linear regression formula that we all learned in high school: $y = a x + b$. In logistic regression variables are expressed in vectors:"
   ]
  },
  {
   "cell_type": "markdown",
   "id": "da7cfaa3",
   "metadata": {
    "cell_id": "00009-f93315a6-d53a-4e94-915d-fc48c04d4b6e",
    "collapsed": false,
    "deepnote_app_coordinates": {
     "h": 5,
     "w": 12,
     "x": 0,
     "y": 55
    },
    "deepnote_cell_height": 428.125,
    "deepnote_cell_type": "markdown"
   },
   "source": [
    "$$\n",
    "z = w^T x + b\n",
    "$$\n",
    "\n",
    "Here $z$ is the output variable, $x$ is the input variable, $w$ and $b$ are model parameters. Here $b$ is scalar and both $x$ and $w$ are **column vectores**:\n",
    "\n",
    "$$\n",
    "{\\displaystyle {\\boldsymbol {x}}={\\begin{bmatrix}x_{1}\\\\x_{2}\\\\\\vdots \\\\x_{m}\\end{bmatrix}}\\,.}\n",
    "$$\n",
    "\n",
    "Therefore $w^T x$ means multiply all the elements of $w$ by all the elements of $x$ and add them together. \n",
    "\n",
    "### Sigmoid function\n",
    "\n",
    "This output z is passed through a non-linear function. The commonly used nonlinear function is the sigmoid function that returns a value between 0 and 1.\n",
    "\n",
    "$$\n",
    "y_{\\rm predict} \\equiv a = \\frac{1}{1 + e^{-z}}.\n",
    "$$"
   ]
  },
  {
   "cell_type": "code",
   "execution_count": 4,
   "id": "f7d5d91c",
   "metadata": {
    "cell_id": "00010-3001e080-5fa8-4fc2-8a8c-bab1ffa57cfe",
    "collapsed": false,
    "deepnote_app_coordinates": {
     "h": 5,
     "w": 12,
     "x": 0,
     "y": 61
    },
    "deepnote_cell_height": 112,
    "deepnote_cell_type": "code",
    "deepnote_to_be_reexecuted": false,
    "execution_millis": 36868571,
    "execution_start": 1660358863497,
    "jupyter": {
     "outputs_hidden": false
    },
    "source_hash": "e95c4fec"
   },
   "outputs": [],
   "source": [
    "def sigmoid(z):\n",
    "    s = 1/(1 + np.exp(-z))\n",
    "    return s"
   ]
  },
  {
   "cell_type": "markdown",
   "id": "284526b4",
   "metadata": {
    "cell_id": "00011-1142287f-fa88-4493-a507-bee8dbab06fa",
    "collapsed": false,
    "deepnote_app_coordinates": {
     "h": 5,
     "w": 12,
     "x": 0,
     "y": 67
    },
    "deepnote_cell_height": 473.171875,
    "deepnote_cell_type": "markdown"
   },
   "source": [
    "### Cost Function\n",
    "\n",
    "The cost function is a measure of a model that reflects how much the predicted output differs from the original output. The purpose of the training is to reduce the cost function as much as possible. Here is the formula for the cost function of one training example or one row of data:\n",
    "\n",
    "$$\n",
    "J(a, y) = - y \\log a - (1 - y) \\log (1 - a),\n",
    "$$\n",
    "\n",
    "and the average cost function for all the rows is\n",
    "\n",
    "$$\n",
    "J = \\frac{1}{m} \\Sigma_{i=1}^{m} J(a, y).\n",
    "$$\n",
    "\n",
    "Here $a$ is the sigmoid function from above and $y$ is the label of the training data: 0 or 1. Note how a large $a$ with $y = 1$ or a small $a$ with $y = 0$ reduces $J$. \n",
    "\n",
    "A special procedure here is conserved with zero values in the log function. Althrough mathematically $a$ takes values in the range (0, 1), not including 0 or 1, in practice, roundoff error could cause $a = 0$ when $z$ is very small or $a = 1$ when $z$ is large. To avoid `J = NaN` in the program, we wrap the Sigmoid function in the following functions: (see \n",
    "The way I solve this problem is to evaluate the log of sigmoid via the special.logsumexp function from scipy: `log(a(z)) = - special.logsumexp([0, -z])`. See [this page](https://fa.bianp.net/blog/2019/evaluate_logistic/) for details."
   ]
  },
  {
   "cell_type": "code",
   "execution_count": 5,
   "id": "830bd70a",
   "metadata": {
    "cell_id": "00012-4f9aa161-1bd6-4898-892c-060df9b92dff",
    "collapsed": false,
    "deepnote_app_coordinates": {
     "h": 5,
     "w": 12,
     "x": 0,
     "y": 73
    },
    "deepnote_cell_height": 238,
    "deepnote_cell_type": "code",
    "deepnote_to_be_reexecuted": false,
    "execution_millis": 36868571,
    "execution_start": 1660358863498,
    "jupyter": {
     "outputs_hidden": false
    },
    "source_hash": "30e17dce"
   },
   "outputs": [],
   "source": [
    "def logsig_lin(z):\n",
    "    # log(1 / (1 + np.exp(-z))\n",
    "    return - special.logsumexp([0, -z])\n",
    "\n",
    "def log1minussig_lin(z):\n",
    "    # log(1 - 1 / (1 + np.exp(-z))\n",
    "    return -z - special.logsumexp([0, -z])\n",
    "\n",
    "logsig = np.vectorize(logsig_lin)\n",
    "log1minussig = np.vectorize(log1minussig_lin)"
   ]
  },
  {
   "cell_type": "markdown",
   "id": "c56dbad6",
   "metadata": {
    "cell_id": "00013-fd759761-42c7-4583-8896-ce6550b54787",
    "collapsed": false,
    "deepnote_app_coordinates": {
     "h": 5,
     "w": 12,
     "x": 0,
     "y": 79
    },
    "deepnote_cell_height": 496.46875,
    "deepnote_cell_type": "markdown"
   },
   "source": [
    "### Gradient descent\n",
    "\n",
    "The goal of model traning is to update the variables `w` and `b` in order to reduce the cost function. They would be initialized as zeros but need to be updated later with better values. Gradient descent will help with that. Let’s see how.\n",
    "\n",
    "We have expressed the cost function as a function of `a` and `y`, but it can be expressed as a function of `w` and `b` as well, because `a` is derived from `w` and `b`.\n",
    "\n",
    "$$\n",
    "\\frac{\\partial J(a, y)}{\\partial w} = \\frac{d J(a, y)}{d a} \\frac{da}{dz} \\frac{\\partial z}{\\partial w} = x(a - y)\n",
    "$$\n",
    "\n",
    "$$\n",
    "\\frac{\\partial J(a, y)}{\\partial w} = \\frac{d J(a, y)}{d a} \\frac{da}{dz} \\frac{\\partial z}{\\partial b} = a - y\n",
    "$$\n",
    "\n",
    "Therefore,\n",
    "\n",
    "$$\n",
    "\\frac{\\partial J}{\\partial w} = \\frac{1}{m} (a - y)^T \\cdot {\\bf x}\n",
    "$$\n",
    "$$\n",
    "\\frac{\\partial J}{\\partial b} = \\frac{1}{m} \\Sigma_{i=1}^{m} (a - y)\n",
    "$$\n",
    "\n",
    "Now, we can write a function to calculate the derivatives of $J$ given the current parameters, w and \n",
    "b, and training dataset, X and Y:"
   ]
  },
  {
   "cell_type": "code",
   "execution_count": 6,
   "id": "f1b94784",
   "metadata": {
    "cell_id": "00014-5c4a7290-799c-4d6c-a67b-0ace2fe9d579",
    "collapsed": false,
    "deepnote_app_coordinates": {
     "h": 5,
     "w": 12,
     "x": 0,
     "y": 85
    },
    "deepnote_cell_height": 274,
    "deepnote_cell_type": "code",
    "deepnote_to_be_reexecuted": false,
    "execution_millis": 5,
    "execution_start": 1660358863500,
    "jupyter": {
     "outputs_hidden": false
    },
    "source_hash": "d0272bec"
   },
   "outputs": [],
   "source": [
    "def propagate(w, b, X, Y):\n",
    "    # the number of training data\n",
    "    m = X.shape[1]\n",
    "    # calculate the predicted output\n",
    "    z = np.dot(w.T, X) + b\n",
    "    A = sigmoid(z)\n",
    "    # calculate the cost function\n",
    "    cost = -1/m * np.sum(Y * logsig(z) + (1 - Y) * log1minussig(z))\n",
    "    # calculate the gradients\n",
    "    dw = 1/m * np.dot(X, (A - Y).T)\n",
    "    db = 1/m * np.sum(A - Y)\n",
    "    return dw, db, cost"
   ]
  },
  {
   "cell_type": "markdown",
   "id": "cbc0982c",
   "metadata": {
    "cell_id": "00015-6aa05455-ad1a-4579-acbd-df400a154670",
    "collapsed": false,
    "deepnote_app_coordinates": {
     "h": 5,
     "w": 12,
     "x": 0,
     "y": 91
    },
    "deepnote_cell_height": 62,
    "deepnote_cell_type": "markdown"
   },
   "source": [
    "### Optimize the parameters to best fit the training data"
   ]
  },
  {
   "cell_type": "code",
   "execution_count": 7,
   "id": "5ab6d8bf",
   "metadata": {
    "cell_id": "00016-41a3a1ce-cceb-4dc9-996c-5c6834f99098",
    "collapsed": false,
    "deepnote_app_coordinates": {
     "h": 5,
     "w": 12,
     "x": 0,
     "y": 97
    },
    "deepnote_cell_height": 333,
    "deepnote_cell_type": "code",
    "deepnote_to_be_reexecuted": false,
    "execution_millis": 2,
    "execution_start": 1660358863518,
    "jupyter": {
     "outputs_hidden": false
    },
    "source_hash": "f7806138"
   },
   "outputs": [],
   "source": [
    "def optimize(w, b, X, Y, num_ite, rate):\n",
    "    costs = []\n",
    "    for i in range(num_ite):\n",
    "        dw, db, cost = propagate(w, b, X, Y)\n",
    "        # update w and b y deducting the dw and db times learning rate from the previous values\n",
    "        w -= rate * dw\n",
    "        b -= rate * db\n",
    "        # record the cost function value for each 10 iterations\n",
    "        if i % 10 == 0:\n",
    "            costs.append(cost)\n",
    "            print(\"Iteration:\", i)\n",
    "    # The final updated parameters and gradients\n",
    "    params = {'w': w, 'b': b}\n",
    "    grads = {\"dw\": dw, \"db\": db}\n",
    "    return params, grads, costs"
   ]
  },
  {
   "cell_type": "markdown",
   "id": "6f415ca5",
   "metadata": {
    "cell_id": "00017-c1fd449a-5f1c-4c78-b6b7-f47ba8412ba9",
    "collapsed": false,
    "deepnote_app_coordinates": {
     "h": 5,
     "w": 12,
     "x": 0,
     "y": 103
    },
    "deepnote_cell_height": 52.390625,
    "deepnote_cell_type": "markdown"
   },
   "source": [
    "We also need a function to predict the output given the model parameters."
   ]
  },
  {
   "cell_type": "code",
   "execution_count": 8,
   "id": "23818d94",
   "metadata": {
    "cell_id": "00018-77c2b5c0-43b3-4775-809f-386946f4c1b9",
    "collapsed": false,
    "deepnote_app_coordinates": {
     "h": 5,
     "w": 12,
     "x": 0,
     "y": 109
    },
    "deepnote_cell_height": 135,
    "deepnote_cell_type": "code",
    "deepnote_to_be_reexecuted": false,
    "execution_millis": 5,
    "execution_start": 1660358863526,
    "jupyter": {
     "outputs_hidden": false
    },
    "source_hash": "aadf263f"
   },
   "outputs": [],
   "source": [
    "def predict(w, b, X):\n",
    "    A = sigmoid(np.dot(w.T, X) + b)[0]\n",
    "    # Iterating through A and predict an 1 if the value of A is greater than 0.5 and a 0 otherwise\n",
    "    return np.array(A > 0.5, dtype=int)"
   ]
  },
  {
   "cell_type": "markdown",
   "id": "f69922be",
   "metadata": {
    "cell_id": "00019-9f36f855-48fb-4a26-8bf3-b5ddcfae895d",
    "collapsed": false,
    "deepnote_app_coordinates": {
     "h": 5,
     "w": 12,
     "x": 0,
     "y": 115
    },
    "deepnote_cell_height": 52.390625,
    "deepnote_cell_type": "markdown"
   },
   "source": [
    "The final function to do the model and print its accuracy:"
   ]
  },
  {
   "cell_type": "code",
   "execution_count": 9,
   "id": "9b63136a",
   "metadata": {
    "cell_id": "00020-4ffb6e63-f9ff-4440-b550-be8c99c4cbb8",
    "collapsed": false,
    "deepnote_app_coordinates": {
     "h": 5,
     "w": 12,
     "x": 0,
     "y": 121
    },
    "deepnote_cell_height": 643.921875,
    "deepnote_cell_type": "code",
    "deepnote_to_be_reexecuted": false,
    "execution_millis": 31899,
    "execution_start": 1660358863536,
    "jupyter": {
     "outputs_hidden": false
    },
    "source_hash": "49fcd489",
    "tags": []
   },
   "outputs": [
    {
     "name": "stdout",
     "output_type": "stream",
     "text": [
      "Iteration: 0\n",
      "/tmp/ipykernel_76/2922593723.py:2: RuntimeWarning: overflow encountered in exp\n",
      "  s = 1/(1 + np.exp(-z))\n",
      "Iteration: 10\n",
      "Iteration: 20\n",
      "Iteration: 30\n",
      "Iteration: 40\n",
      "Iteration: 50\n",
      "Iteration: 60\n",
      "Iteration: 70\n",
      "Iteration: 80\n",
      "Iteration: 90\n",
      "train accuracy: 99.23333333333333 %\n",
      "test accuracy: 99.0 %\n",
      "Predictions for the picked images: [1 1 0 0 0 0 0 0 0 0] , compared to the labels: [1 1 0 0 0 0 0 0 0 0]\n"
     ]
    }
   ],
   "source": [
    "dim = x_train.shape[0]\n",
    "# Initializing the w and b as zeros\n",
    "w = np.zeros([dim, 1])\n",
    "b = 0\n",
    "num_ite = 100\n",
    "rate = 0.005\n",
    "# Train the model\n",
    "params, grads, costs = optimize(w, b, x_train, y_train_binary, num_ite, rate)\n",
    "# Make predictions based on the trained parameters\n",
    "prediction_train = predict(params['w'], params['b'], x_train)\n",
    "prediction_test = predict(params['w'], params['b'], x_test)\n",
    "# Print out the accuracy\n",
    "print(\"train accuracy: {} %\".format(100 - np.mean(np.abs(prediction_train - y_train_binary)) * 100))\n",
    "print(\"test accuracy: {} %\".format(100 - np.mean(np.abs(prediction_test - y_test_binary)) * 100))\n",
    "print(\"Predictions for the picked images:\", prediction_test[picks], \", compared to the labels:\", y_test_binary[picks])"
   ]
  },
  {
   "cell_type": "markdown",
   "id": "16bf52f6",
   "metadata": {
    "collapsed": false
   },
   "source": [
    "The model achieves 99% accuracy on this simple binary classification task. "
   ]
  },
  {
   "cell_type": "markdown",
   "id": "7999f9de",
   "metadata": {
    "cell_id": "00021-31d7d0c1-55dc-4357-9061-8358d3e9943c",
    "collapsed": false,
    "deepnote_app_coordinates": {
     "h": 5,
     "w": 12,
     "x": 0,
     "y": 127
    },
    "deepnote_cell_height": 189.59375,
    "deepnote_cell_type": "markdown"
   },
   "source": [
    "## Training a multi-class classification model\n",
    "\n",
    "Now it is time to extend our model capability to do a complete image classification. The idea is to optimize the parameters for each individual catagories, in this case 0, 1, 2, ... 9. In the prediction, we find the catogary with the highest probability (Sigmoid value $a(z)$).\n",
    "\n",
    "First, rebuild the y data"
   ]
  },
  {
   "cell_type": "code",
   "execution_count": 10,
   "id": "8fa26688",
   "metadata": {
    "cell_id": "00022-7e3fa261-724b-4f98-9260-88d2defde482",
    "collapsed": false,
    "deepnote_app_coordinates": {
     "h": 5,
     "w": 12,
     "x": 0,
     "y": 133
    },
    "deepnote_cell_height": 148,
    "deepnote_cell_type": "code",
    "deepnote_to_be_reexecuted": false,
    "execution_millis": 8,
    "execution_start": 1660358894650,
    "jupyter": {
     "outputs_hidden": false
    },
    "source_hash": "7eb72e37"
   },
   "outputs": [],
   "source": [
    "# build y\n",
    "N = 10  # number of labels\n",
    "y_train_sparse = np.zeros([N, len(y_train)])\n",
    "for i in range(len(y_train)):\n",
    "    y_train_sparse[int(y_train[i]), i] = 1"
   ]
  },
  {
   "cell_type": "markdown",
   "id": "24abf9f4",
   "metadata": {
    "cell_id": "00023-6c38ab0d-1249-4c83-896a-e8ed54aff4d7",
    "collapsed": false,
    "deepnote_app_coordinates": {
     "h": 5,
     "w": 12,
     "x": 0,
     "y": 139
    },
    "deepnote_cell_height": 52.390625,
    "deepnote_cell_type": "markdown"
   },
   "source": [
    "and the new optimize and predict function"
   ]
  },
  {
   "cell_type": "code",
   "execution_count": 11,
   "id": "6881cd68",
   "metadata": {
    "cell_id": "00027-0cf665d8-7e40-413b-9a6b-879831680d46",
    "collapsed": false,
    "deepnote_app_coordinates": {
     "h": 5,
     "w": 12,
     "x": 0,
     "y": 163
    },
    "deepnote_cell_height": 837,
    "deepnote_cell_type": "code",
    "deepnote_to_be_reexecuted": false,
    "execution_millis": 11,
    "execution_start": 1660358894661,
    "jupyter": {
     "outputs_hidden": false
    },
    "source_hash": "32998005"
   },
   "outputs": [],
   "source": [
    "def propagate_multi(w, b, X, Y):\n",
    "    \"\"\"\n",
    "    Params:\n",
    "        w: (d by N) d is the number of dimensions (pixels), N is the number of catagories (10)\n",
    "        b: (N)\n",
    "        X: (d by m) m is the number of data\n",
    "        Y: (N by m)\n",
    "        \n",
    "    Return:\n",
    "        dw: (d by N)\n",
    "        db: (N)\n",
    "        cost: (float)\n",
    "    \"\"\"\n",
    "    # the number of training data\n",
    "    m = X.shape[1]\n",
    "    # calculate the predicted output\n",
    "    z = (np.dot(w.T, X).T + b).T # (N by m)\n",
    "    A = sigmoid(z)\n",
    "    cost = -1 / (N * m) * np.sum(Y * logsig(z) + (1 - Y) * log1minussig(z))\n",
    "    # calculate the gradients\n",
    "    dw = 1/m * np.dot(X, (A - Y).T) # (d by N)\n",
    "    db = 1/m * np.sum(A - Y, axis=1) # (N)\n",
    "    return dw, db, cost\n",
    "\n",
    "def optimize(w, b, X, Y, num_ite, rate, cost_skip=10):\n",
    "    # costs = []\n",
    "    for i in range(num_ite):\n",
    "        dw, db, cost = propagate_multi(w, b, X, Y)\n",
    "        # update w and b y deducting the dw and db times learning rate from the previous values\n",
    "        w -= rate * dw\n",
    "        b -= rate * db\n",
    "        # record the cost function value for each 100 iterations\n",
    "        # if i % 5 == 0:\n",
    "        #     costs.append(cost)\n",
    "        #     print(f\"Iteration: {i}, cost = {cost}\")\n",
    "    # The final updated parameters and gradients\n",
    "    params = {'w': w, 'b': b}\n",
    "    grads = {\"dw\": dw, \"db\": db}\n",
    "    return params, grads, cost\n",
    "\n",
    "def predict(w, b, X):\n",
    "    A = sigmoid(np.dot(w.T, X).T + b).T # (N by m)\n",
    "    return  np.argmax(A, axis=0) # (m)"
   ]
  },
  {
   "cell_type": "markdown",
   "id": "c669e483",
   "metadata": {
    "cell_id": "de068c50368c4e2496e6c6f00cf8a3c8",
    "collapsed": false,
    "deepnote_cell_type": "text-cell-p",
    "formattedRanges": [],
    "is_collapsed": false,
    "tags": []
   },
   "source": [
    "Now, train the model"
   ]
  },
  {
   "cell_type": "code",
   "execution_count": 22,
   "id": "61b1d8cf",
   "metadata": {
    "allow_embed": false,
    "cell_id": "eee61fcc3ebb452d8b1572dc1149f9b8",
    "collapsed": false,
    "deepnote_app_coordinates": {
     "h": 5,
     "w": 12,
     "x": 0,
     "y": 175
    },
    "deepnote_cell_height": 983,
    "deepnote_cell_type": "code",
    "deepnote_to_be_reexecuted": false,
    "execution_millis": 270538,
    "execution_start": 1660361020905,
    "jupyter": {
     "outputs_hidden": false
    },
    "source_hash": "8dcef18c",
    "tags": []
   },
   "outputs": [
    {
     "name": "stderr",
     "output_type": "stream",
     "text": [
      "/tmp/ipykernel_76/2922593723.py:2: RuntimeWarning: overflow encountered in exp\n",
      "  s = 1/(1 + np.exp(-z))\n",
      "total number of ite = 10, cost = 15.642082022209852, train accuracy = 78.4 %\n",
      "total number of ite = 20, cost = 10.13579121822049, train accuracy = 70.1 %\n",
      "total number of ite = 30, cost = 6.239039228320853, train accuracy = 85.36666666666667 %\n",
      "total number of ite = 40, cost = 3.974493901128094, train accuracy = 87.66666666666667 %\n",
      "total number of ite = 50, cost = 8.038727466800148, train accuracy = 78.56666666666666 %\n",
      "total number of ite = 60, cost = 3.6077143613125293, train accuracy = 82.23333333333333 %\n",
      "total number of ite = 70, cost = 8.519842639119675, train accuracy = 70.16666666666667 %\n",
      "total number of ite = 80, cost = 3.059499345101131, train accuracy = 84.89999999999999 %\n",
      "total number of ite = 90, cost = 3.734900624342142, train accuracy = 87.23333333333333 %\n",
      "total number of ite = 100, cost = 2.4217790069496483, train accuracy = 84.23333333333333 %\n",
      "total number of ite = 110, cost = 2.2079684099530934, train accuracy = 91.26666666666667 %\n",
      "test accuracy: 83.8 %\n",
      "Predictions for the picked images: [1 1 9 8 9 0 0 3 4 4] , compared to the labels: [1 1 9 8 9 0 0 8 4 4]\n"
     ]
    }
   ],
   "source": [
    "# test: find the best num_ite\n",
    "    \n",
    "N = 10\n",
    "# Initializing the w and b as zeros\n",
    "dim = x_train.shape[0]\n",
    "w = np.zeros([dim, N])\n",
    "b = np.zeros(N)\n",
    "rate = 0.002\n",
    "params = {'w': w, 'b': b}\n",
    "ite_per_cycle = 10\n",
    "for cycle in range(11):\n",
    "    params, grads, costs = optimize(params['w'], params['b'], x_train, y_train_sparse, ite_per_cycle, rate)\n",
    "    prediction_train = predict(params['w'], params['b'], x_train)\n",
    "    print(\"total number of ite = {}, cost = {}, train accuracy = {} %\".format(\n",
    "        (cycle + 1) * ite_per_cycle,\n",
    "        costs,\n",
    "        np.sum(prediction_train == np.array(y_train, dtype=int)) / len(y_train) * 100))\n",
    "prediction_test = predict(params['w'], params['b'], x_test)\n",
    "print(\"test accuracy: {} %\".format(np.sum(prediction_test == np.array(y_test, dtype=int)) / len(y_test) * 100))\n",
    "print(\"Predictions for the picked images:\", prediction_test[picks], \", compared to the labels:\", y_test[picks])\n",
    "# plt.scatter(cost_skip * np.arange(len(costs)), costs)\n",
    "# plt.gca().set(yscale='log')\n",
    "# plt.savefig(\"f2.png\", dpi=300)\n",
    "# print(\"f2.png: evolution of the costs.\")"
   ]
  },
  {
   "cell_type": "markdown",
   "id": "79534708",
   "metadata": {
    "collapsed": false
   },
   "source": [
    "The model achieves 91% accuracy on the training dataset and 84% accuracy on the test sample."
   ]
  },
  {
   "cell_type": "markdown",
   "id": "aff8bb32",
   "metadata": {
    "cell_id": "56b46f0940554aac80ebf1cfedfbbd16",
    "collapsed": false,
    "deepnote_cell_height": 197.984375,
    "deepnote_cell_type": "markdown",
    "tags": []
   },
   "source": [
    "## Why does it work?\n",
    "\n",
    "How could such a simple model achieve such high accuracy in classifying handwritten digits, given the high complexity and variation in the handwritten digits? We can have an appreciation of how it works by taking a visualization of the weight. Recall the each weight correponds to how much each of the input pixels are taken into account. By reshaping the wegiths into a 28 by 28 image, we can tell what pixels are most important and least important:"
   ]
  },
  {
   "cell_type": "code",
   "execution_count": 23,
   "id": "bac7b6ea",
   "metadata": {
    "cell_id": "f8b267409a5246278277ccf206ba28e3",
    "collapsed": false,
    "deepnote_cell_height": 532.390625,
    "deepnote_cell_type": "code",
    "deepnote_output_heights": [
     296.390625
    ],
    "deepnote_to_be_reexecuted": false,
    "execution_millis": 490,
    "execution_start": 1660361303841,
    "source_hash": "348ba48f",
    "tags": []
   },
   "outputs": [
    {
     "data": {
      "image/png": "[encoded data removed]",
      "text/plain": [
       "<Figure size 864x360 with 10 Axes>"
      ]
     },
     "metadata": {
      "image/png": {
       "height": 297,
       "width": 687
      },
      "needs_background": "light"
     },
     "output_type": "display_data"
    }
   ],
   "source": [
    "plt.figure(figsize=[12, 5])\n",
    "for i in range(N):\n",
    "    plt.subplot(2, 5, i+1)\n",
    "    weight = params['w'][:, i].reshape([image_size, image_size])\n",
    "    plt.title(i)\n",
    "    plt.imshow(weight, cmap=\"seismic\")\n",
    "    ax = plt.gca().axes\n",
    "    ax.get_xaxis().set_visible(0)\n",
    "    ax.get_yaxis().set_visible(0)"
   ]
  },
  {
   "cell_type": "markdown",
   "id": "fbddf4dd",
   "metadata": {
    "cell_id": "053224f858d243d9ab7aa8f3e8c4d6a9",
    "collapsed": false,
    "deepnote_cell_height": 97.1875,
    "deepnote_cell_type": "markdown",
    "tags": []
   },
   "source": [
    "Here the colors are weights with red meaning positive and blue meaning negative values. Note how the weights of some of the digits (0, 1, 3, 5, 7, 8) are interpretable. Other digits are more complicated, which might be the reason why the algorithm could not reach very high accuracy. "
   ]
  }
 ],
 "metadata": {
  "deepnote": null,
  "deepnote_app_layout": "article",
  "deepnote_execution_queue": [],
  "deepnote_notebook_id": "8613085b-b932-4271-82e5-ecd333fd3e42",
  "kernelspec": {
   "argv": [
    "/Users/chongchonghe/anaconda3/bin/python",
    "-m",
    "ipykernel_launcher",
    "-f",
    "{connection_file}"
   ],
   "display_name": "Python 3",
   "env": null,
   "interrupt_mode": "signal",
   "language": "python",
   "metadata": null,
   "name": "python3"
  },
  "language_info": {
   "codemirror_mode": {
    "name": "ipython",
    "version": 3
   },
   "file_extension": ".py",
   "mimetype": "text/x-python",
   "name": "python",
   "nbconvert_exporter": "python",
   "pygments_lexer": "ipython3",
   "version": "3.8.3"
  },
  "name": "2022-08-01-ML-from-scratch.ipynb"
 },
 "nbformat": 4,
 "nbformat_minor": 5
}
